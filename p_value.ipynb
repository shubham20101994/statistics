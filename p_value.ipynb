import numpy as np 
import pandas as pd
import scipy.stats as stats

def Zprob(z0):
    return(print('p-value of z normal distribution = ',stats.norm.cdf(z0)))


def chiprob(z0, alpha):
      return(print('\np-value of chisquare  = ',stats.chi.cdf(z0, alpha)))

def tprob(z0, alpha):
        return(print('\np-value of t distribution = ',stats.t.cdf(z0,alpha)))


def fprob(q,df1, df2):
      return(print('\np-value of f distribution = ',stats.f.cdf(q,df1 , df2)))


Zprob(1.45)
chiprob(2.32,1)
tprob(3.50, 15)
fprob(2,2,1)


#output::
p-value of z normal distribution =  0.9264707403903516

p-value of chisquare  =  0.9796591226625607

p-value of t distribution =  0.9983882345281028

p-value of f distribution =  0.552786404500042
